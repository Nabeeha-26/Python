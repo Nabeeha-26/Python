{
  "cells": [
    {
      "cell_type": "code",
      "execution_count": 1,
      "id": "6117019a",
      "metadata": {
        "execution": {
          "iopub.execute_input": "2023-09-06T17:52:13.870773Z",
          "iopub.status.busy": "2023-09-06T17:52:13.870017Z",
          "iopub.status.idle": "2023-09-06T17:52:19.321843Z",
          "shell.execute_reply": "2023-09-06T17:52:19.320748Z"
        },
        "papermill": {
          "duration": 5.4629,
          "end_time": "2023-09-06T17:52:19.324930",
          "exception": false,
          "start_time": "2023-09-06T17:52:13.862030",
          "status": "completed"
        },
        "tags": [],
        "id": "6117019a"
      },
      "outputs": [],
      "source": [
        "import cv2\n",
        "import numpy as np\n",
        "import tensorflow as tf\n",
        "import matplotlib.pyplot as plt\n",
        "from tensorflow import keras"
      ]
    },
    {
      "cell_type": "code",
      "execution_count": 2,
      "id": "cb0ad298",
      "metadata": {
        "execution": {
          "iopub.execute_input": "2023-09-06T17:52:19.343033Z",
          "iopub.status.busy": "2023-09-06T17:52:19.341950Z",
          "iopub.status.idle": "2023-09-06T17:52:20.870446Z",
          "shell.execute_reply": "2023-09-06T17:52:20.869427Z"
        },
        "papermill": {
          "duration": 1.540025,
          "end_time": "2023-09-06T17:52:20.873137",
          "exception": false,
          "start_time": "2023-09-06T17:52:19.333112",
          "status": "completed"
        },
        "tags": [],
        "colab": {
          "base_uri": "https://localhost:8080/"
        },
        "id": "cb0ad298",
        "outputId": "4ac53396-e898-4841-e971-1784de276191"
      },
      "outputs": [
        {
          "output_type": "stream",
          "name": "stdout",
          "text": [
            "Downloading data from https://storage.googleapis.com/tensorflow/tf-keras-datasets/mnist.npz\n",
            "11490434/11490434 [==============================] - 0s 0us/step\n"
          ]
        }
      ],
      "source": [
        "(X_train, y_train), (X_test, y_test) = tf.keras.datasets.mnist.load_data()"
      ]
    },
    {
      "cell_type": "code",
      "execution_count": 3,
      "id": "ae103fb1",
      "metadata": {
        "execution": {
          "iopub.execute_input": "2023-09-06T17:52:20.890974Z",
          "iopub.status.busy": "2023-09-06T17:52:20.890506Z",
          "iopub.status.idle": "2023-09-06T17:52:20.899799Z",
          "shell.execute_reply": "2023-09-06T17:52:20.898326Z"
        },
        "papermill": {
          "duration": 0.024806,
          "end_time": "2023-09-06T17:52:20.903924",
          "exception": false,
          "start_time": "2023-09-06T17:52:20.879118",
          "status": "completed"
        },
        "tags": [],
        "colab": {
          "base_uri": "https://localhost:8080/"
        },
        "id": "ae103fb1",
        "outputId": "7d475955-268d-4034-96fb-94327aaf397a"
      },
      "outputs": [
        {
          "output_type": "stream",
          "name": "stdout",
          "text": [
            "The shape of the training inputs: (60000, 28, 28)\n",
            "The shape of the training labels: (60000,)\n",
            "The shape of the testing inputs: (10000, 28, 28)\n",
            "The shape of the testing labels: (10000,)\n"
          ]
        }
      ],
      "source": [
        "print('The shape of the training inputs:', X_train.shape)\n",
        "print('The shape of the training labels:',y_train.shape)\n",
        "print('The shape of the testing inputs:',X_test.shape)\n",
        "print('The shape of the testing labels:',y_test.shape)"
      ]
    },
    {
      "cell_type": "code",
      "execution_count": 4,
      "id": "73ad2568",
      "metadata": {
        "execution": {
          "iopub.execute_input": "2023-09-06T17:52:20.916907Z",
          "iopub.status.busy": "2023-09-06T17:52:20.916619Z",
          "iopub.status.idle": "2023-09-06T17:52:21.855550Z",
          "shell.execute_reply": "2023-09-06T17:52:21.854533Z"
        },
        "papermill": {
          "duration": 0.948375,
          "end_time": "2023-09-06T17:52:21.858229",
          "exception": false,
          "start_time": "2023-09-06T17:52:20.909854",
          "status": "completed"
        },
        "tags": [],
        "colab": {
          "base_uri": "https://localhost:8080/",
          "height": 433
        },
        "id": "73ad2568",
        "outputId": "7d85d062-505f-4bc2-ac35-e164c3b49410"
      },
      "outputs": [
        {
          "output_type": "display_data",
          "data": {
            "text/plain": [
              "<Figure size 640x480 with 9 Axes>"
            ],
            "image/png": "[encoded data removed]"
          },
          "metadata": {}
        }
      ],
      "source": [
        "# plotting the first 9 images in the train set of MNIST\n",
        "\n",
        "fig, axs = plt.subplots(3, 3)\n",
        "cnt = 0\n",
        "for i in range(3):\n",
        "     for j in range(3):\n",
        "         axs[i, j].imshow(X_train[cnt])\n",
        "         cnt += 1"
      ]
    },
    {
      "cell_type": "code",
      "execution_count": null,
      "id": "b52ee7d5",
      "metadata": {
        "execution": {
          "iopub.execute_input": "2023-09-06T17:52:21.873526Z",
          "iopub.status.busy": "2023-09-06T17:52:21.871747Z",
          "iopub.status.idle": "2023-09-06T17:52:22.375342Z",
          "shell.execute_reply": "2023-09-06T17:52:22.374030Z"
        },
        "papermill": {
          "duration": 0.513764,
          "end_time": "2023-09-06T17:52:22.378264",
          "exception": false,
          "start_time": "2023-09-06T17:52:21.864500",
          "status": "completed"
        },
        "tags": [],
        "id": "b52ee7d5"
      },
      "outputs": [],
      "source": [
        "X_train = tf.keras.utils.normalize(X_train, axis=1)\n",
        "X_test = tf.keras.utils.normalize(X_test, axis=1)"
      ]
    },
    {
      "cell_type": "code",
      "execution_count": 5,
      "id": "2ca1e608",
      "metadata": {
        "execution": {
          "iopub.execute_input": "2023-09-06T17:52:22.392820Z",
          "iopub.status.busy": "2023-09-06T17:52:22.391934Z",
          "iopub.status.idle": "2023-09-06T17:52:26.088861Z",
          "shell.execute_reply": "2023-09-06T17:52:26.086599Z"
        },
        "papermill": {
          "duration": 3.706991,
          "end_time": "2023-09-06T17:52:26.091704",
          "exception": false,
          "start_time": "2023-09-06T17:52:22.384713",
          "status": "completed"
        },
        "tags": [],
        "id": "2ca1e608"
      },
      "outputs": [],
      "source": [
        "model = keras.Sequential([\n",
        "    keras.layers.Flatten(input_shape=(28, 28)),  # Flatten 28x28 images to a 784-dimensional vector\n",
        "    keras.layers.Dense(128, activation='relu'),  # Fully connected layer with 128 units and ReLU activation\n",
        "    keras.layers.Dropout(0.2),  # Dropout to prevent overfitting\n",
        "    keras.layers.Dense(10, activation='softmax')  # Output layer with 10 units for digit classification\n",
        "])\n"
      ]
    },
    {
      "cell_type": "code",
      "execution_count": 6,
      "id": "5efe9871",
      "metadata": {
        "execution": {
          "iopub.execute_input": "2023-09-06T17:52:26.165437Z",
          "iopub.status.busy": "2023-09-06T17:52:26.164558Z",
          "iopub.status.idle": "2023-09-06T17:52:26.176950Z",
          "shell.execute_reply": "2023-09-06T17:52:26.175998Z"
        },
        "papermill": {
          "duration": 0.021967,
          "end_time": "2023-09-06T17:52:26.179104",
          "exception": false,
          "start_time": "2023-09-06T17:52:26.157137",
          "status": "completed"
        },
        "tags": [],
        "id": "5efe9871"
      },
      "outputs": [],
      "source": [
        "model.compile(optimizer='adam', loss='sparse_categorical_crossentropy', metrics=['accuracy'])"
      ]
    },
    {
      "cell_type": "code",
      "execution_count": 7,
      "id": "c744d8f7",
      "metadata": {
        "execution": {
          "iopub.execute_input": "2023-09-06T17:52:26.193043Z",
          "iopub.status.busy": "2023-09-06T17:52:26.192206Z",
          "iopub.status.idle": "2023-09-06T17:52:47.564549Z",
          "shell.execute_reply": "2023-09-06T17:52:47.563438Z"
        },
        "papermill": {
          "duration": 21.381782,
          "end_time": "2023-09-06T17:52:47.566981",
          "exception": false,
          "start_time": "2023-09-06T17:52:26.185199",
          "status": "completed"
        },
        "tags": [],
        "colab": {
          "base_uri": "https://localhost:8080/"
        },
        "id": "c744d8f7",
        "outputId": "926ce3e4-a08c-4fb9-bb16-5bb2f3de4867"
      },
      "outputs": [
        {
          "output_type": "stream",
          "name": "stdout",
          "text": [
            "Epoch 1/10\n",
            "600/600 [==============================] - 4s 5ms/step - loss: 3.7292 - accuracy: 0.7305\n",
            "Epoch 2/10\n",
            "600/600 [==============================] - 3s 5ms/step - loss: 0.6716 - accuracy: 0.8279\n",
            "Epoch 3/10\n",
            "600/600 [==============================] - 3s 6ms/step - loss: 0.4991 - accuracy: 0.8646\n",
            "Epoch 4/10\n",
            "600/600 [==============================] - 3s 4ms/step - loss: 0.4182 - accuracy: 0.8845\n",
            "Epoch 5/10\n",
            "600/600 [==============================] - 3s 4ms/step - loss: 0.3651 - accuracy: 0.8970\n",
            "Epoch 6/10\n",
            "600/600 [==============================] - 3s 4ms/step - loss: 0.3206 - accuracy: 0.9072\n",
            "Epoch 7/10\n",
            "600/600 [==============================] - 4s 6ms/step - loss: 0.2927 - accuracy: 0.9176\n",
            "Epoch 8/10\n",
            "600/600 [==============================] - 3s 4ms/step - loss: 0.2861 - accuracy: 0.9210\n",
            "Epoch 9/10\n",
            "600/600 [==============================] - 3s 4ms/step - loss: 0.2673 - accuracy: 0.9249\n",
            "Epoch 10/10\n",
            "600/600 [==============================] - 3s 4ms/step - loss: 0.2539 - accuracy: 0.9273\n"
          ]
        },
        {
          "output_type": "execute_result",
          "data": {
            "text/plain": [
              "<keras.src.callbacks.History at 0x7f32598d5fc0>"
            ]
          },
          "metadata": {},
          "execution_count": 7
        }
      ],
      "source": [
        "model.fit(X_train, y_train, epochs=10, batch_size=100)"
      ]
    },
    {
      "cell_type": "code",
      "execution_count": 8,
      "id": "1c4c159f",
      "metadata": {
        "execution": {
          "iopub.execute_input": "2023-09-06T17:52:47.619930Z",
          "iopub.status.busy": "2023-09-06T17:52:47.619010Z",
          "iopub.status.idle": "2023-09-06T17:52:48.470927Z",
          "shell.execute_reply": "2023-09-06T17:52:48.469934Z"
        },
        "papermill": {
          "duration": 0.880116,
          "end_time": "2023-09-06T17:52:48.473151",
          "exception": false,
          "start_time": "2023-09-06T17:52:47.593035",
          "status": "completed"
        },
        "tags": [],
        "colab": {
          "base_uri": "https://localhost:8080/"
        },
        "id": "1c4c159f",
        "outputId": "069acbae-7cba-45b7-eace-6fd03d5d906c"
      },
      "outputs": [
        {
          "output_type": "stream",
          "name": "stdout",
          "text": [
            "313/313 [==============================] - 1s 2ms/step - loss: 0.3185 - accuracy: 0.9432\n",
            "0.3185282349586487\n",
            "0.9431999921798706\n"
          ]
        }
      ],
      "source": [
        "loss, accuracy = model.evaluate(X_test, y_test)\n",
        "print(loss)\n",
        "print(accuracy)"
      ]
    },
    {
      "cell_type": "code",
      "execution_count": 9,
      "id": "ab25dad4",
      "metadata": {
        "execution": {
          "iopub.execute_input": "2023-09-06T17:52:48.527698Z",
          "iopub.status.busy": "2023-09-06T17:52:48.526785Z",
          "iopub.status.idle": "2023-09-06T17:52:49.301504Z",
          "shell.execute_reply": "2023-09-06T17:52:49.300432Z"
        },
        "papermill": {
          "duration": 0.804707,
          "end_time": "2023-09-06T17:52:49.303950",
          "exception": false,
          "start_time": "2023-09-06T17:52:48.499243",
          "status": "completed"
        },
        "tags": [],
        "colab": {
          "base_uri": "https://localhost:8080/"
        },
        "id": "ab25dad4",
        "outputId": "2b655cb3-8994-46b0-a351-5b1cb77d127b"
      },
      "outputs": [
        {
          "output_type": "stream",
          "name": "stdout",
          "text": [
            "313/313 [==============================] - 1s 2ms/step\n"
          ]
        },
        {
          "output_type": "execute_result",
          "data": {
            "text/plain": [
              "array([[4.5642265e-23, 1.3603476e-20, 4.3622663e-15, ..., 9.9999982e-01,\n",
              "        0.0000000e+00, 6.6980789e-08],\n",
              "       [0.0000000e+00, 5.1033063e-11, 9.9999994e-01, ..., 0.0000000e+00,\n",
              "        2.7415493e-35, 0.0000000e+00],\n",
              "       [3.6095031e-18, 9.9999851e-01, 2.4252338e-22, ..., 2.4471706e-07,\n",
              "        1.1843565e-11, 1.9251795e-17],\n",
              "       ...,\n",
              "       [1.4170886e-33, 5.0015898e-16, 5.5746343e-31, ..., 8.7418406e-16,\n",
              "        1.1103022e-17, 5.4047430e-11],\n",
              "       [1.9153516e-17, 6.5410711e-12, 6.0360355e-17, ..., 8.7103830e-31,\n",
              "        3.8433305e-09, 3.5899451e-23],\n",
              "       [2.6257005e-14, 0.0000000e+00, 5.4230708e-15, ..., 1.1784309e-24,\n",
              "        1.1618034e-25, 0.0000000e+00]], dtype=float32)"
            ]
          },
          "metadata": {},
          "execution_count": 9
        }
      ],
      "source": [
        "prediction = model.predict([X_test])\n",
        "prediction"
      ]
    },
    {
      "cell_type": "code",
      "execution_count": 10,
      "id": "85292a7c",
      "metadata": {
        "execution": {
          "iopub.execute_input": "2023-09-06T17:52:49.360159Z",
          "iopub.status.busy": "2023-09-06T17:52:49.358239Z",
          "iopub.status.idle": "2023-09-06T17:52:49.368098Z",
          "shell.execute_reply": "2023-09-06T17:52:49.366845Z"
        },
        "papermill": {
          "duration": 0.040415,
          "end_time": "2023-09-06T17:52:49.370920",
          "exception": false,
          "start_time": "2023-09-06T17:52:49.330505",
          "status": "completed"
        },
        "tags": [],
        "colab": {
          "base_uri": "https://localhost:8080/"
        },
        "id": "85292a7c",
        "outputId": "64fd7531-ec27-4d59-f612-f8cd9070448a"
      },
      "outputs": [
        {
          "output_type": "stream",
          "name": "stdout",
          "text": [
            "Probabilities:  [9.9995738e-01 1.3845884e-18 6.7241639e-15 8.1102737e-22 5.6915912e-08\n",
            " 2.4941942e-09 3.4010740e-05 8.5861175e-06 2.0250672e-17 1.1422329e-12]\n",
            "\n",
            "\n",
            "Prediction:  0\n"
          ]
        }
      ],
      "source": [
        "# prediction for single image\n",
        "\n",
        "print('Probabilities: ', prediction[10])\n",
        "print('\\n')\n",
        "print('Prediction: ', np.argmax(prediction[10]))"
      ]
    },
    {
      "cell_type": "code",
      "execution_count": 11,
      "id": "41c4669f",
      "metadata": {
        "execution": {
          "iopub.execute_input": "2023-09-06T17:52:49.430610Z",
          "iopub.status.busy": "2023-09-06T17:52:49.429584Z",
          "iopub.status.idle": "2023-09-06T17:52:49.631084Z",
          "shell.execute_reply": "2023-09-06T17:52:49.630152Z"
        },
        "papermill": {
          "duration": 0.232686,
          "end_time": "2023-09-06T17:52:49.633368",
          "exception": false,
          "start_time": "2023-09-06T17:52:49.400682",
          "status": "completed"
        },
        "tags": [],
        "colab": {
          "base_uri": "https://localhost:8080/",
          "height": 430
        },
        "id": "41c4669f",
        "outputId": "2d4efa7d-2245-4bd4-e6d8-eea378234e95"
      },
      "outputs": [
        {
          "output_type": "display_data",
          "data": {
            "text/plain": [
              "<Figure size 640x480 with 1 Axes>"
            ],
            "image/png": "[encoded data removed]"
          },
          "metadata": {}
        }
      ],
      "source": [
        "# visualize the image\n",
        "\n",
        "plt.imshow(X_test[10])\n",
        "plt.show()"
      ]
    }
  ],
  "metadata": {
    "kernelspec": {
      "display_name": "Python 3",
      "language": "python",
      "name": "python3"
    },
    "language_info": {
      "codemirror_mode": {
        "name": "ipython",
        "version": 3
      },
      "file_extension": ".py",
      "mimetype": "text/x-python",
      "name": "python",
      "nbconvert_exporter": "python",
      "pygments_lexer": "ipython3",
      "version": "3.7.12"
    },
    "papermill": {
      "default_parameters": {},
      "duration": 48.550981,
      "end_time": "2023-09-06T17:52:52.913094",
      "environment_variables": {},
      "exception": null,
      "input_path": "__notebook__.ipynb",
      "output_path": "__notebook__.ipynb",
      "parameters": {},
      "start_time": "2023-09-06T17:52:04.362113",
      "version": "2.3.4"
    },
    "colab": {
      "provenance": []
    }
  },
  "nbformat": 4,
  "nbformat_minor": 5
}